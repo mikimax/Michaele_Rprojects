{
  "cells": [
    {
      "cell_type": "markdown",
      "metadata": {
        "id": "view-in-github",
        "colab_type": "text"
      },
      "source": [
        "<a href=\"https://colab.research.google.com/github/mikimax/Michaele_Rprojects/blob/main/Michaele_Reading_Data_Practice.ipynb\" target=\"_parent\"><img src=\"https://colab.research.google.com/assets/colab-badge.svg\" alt=\"Open In Colab\"/></a>"
      ]
    },
    {
      "cell_type": "code",
      "execution_count": null,
      "metadata": {
        "colab": {
          "base_uri": "https://localhost:8080/"
        },
        "id": "vRjhkmeDO9kq",
        "outputId": "e98da587-0e5c-4e5e-93e1-6d881462be9d"
      },
      "outputs": [
        {
          "name": "stdout",
          "output_type": "stream",
          "text": [
            "Please enter Your name:MIchaele\n",
            "Hello, MIchaele\n"
          ]
        }
      ],
      "source": [
        "#user/bin/env pthon3\n",
        "name=input(\"Please enter Your name:\")\n",
        "print(\"Hello, \" +name)"
      ]
    },
    {
      "cell_type": "code",
      "execution_count": null,
      "metadata": {
        "colab": {
          "background_save": true,
          "base_uri": "https://localhost:8080/"
        },
        "id": "a2bTGP57RCda",
        "outputId": "5eba78a4-bd2a-411b-aa8d-29890ac76de3"
      },
      "outputs": [
        {
          "name": "stdout",
          "output_type": "stream",
          "text": [
            "Welcome to the time converter\n",
            "That is 7400 seconds\n",
            "\n"
          ]
        }
      ],
      "source": [
        "def to_seconds(hours, minutes, seconds):\n",
        "    return hours * 3600 + minutes * 60 + seconds\n",
        "\n",
        "print(\"Welcome to the time converter\")  # Moved outside the function\n",
        "\n",
        "cont = \"y\"\n",
        "while cont.lower() == \"y\":\n",
        "    hours = int(input(\"Enter the number of hours: \"))\n",
        "    minutes = int(input(\"Enter the number of minutes: \"))\n",
        "    seconds = int(input(\"Enter the number of seconds: \"))\n",
        "    print(\"That is {} seconds\".format(to_seconds(hours, minutes, seconds)))\n",
        "    print()\n",
        "    cont = input(\"Do you want to do another conversion? [Enter y to continue]: \")\n",
        "\n",
        "print(\"Goodbye\")\n",
        "\n"
      ]
    },
    {
      "cell_type": "code",
      "source": [
        "data = input(\"This will come from STDIN: \")\n",
        "print(\"Now we write it to STDOUT: \" + data)\n",
        "print(\"Now we generate an error to STDERR: \" + data + 1)"
      ],
      "metadata": {
        "colab": {
          "base_uri": "https://localhost:8080/",
          "height": 211
        },
        "id": "0r3QSUuLxYjW",
        "outputId": "1fdecfe9-09c7-4d3e-a046-07dd25a019c6"
      },
      "execution_count": 1,
      "outputs": [
        {
          "output_type": "stream",
          "name": "stdout",
          "text": [
            "This will come from STDIN: python\n",
            "Now we write it to STDOUT: python\n"
          ]
        },
        {
          "output_type": "error",
          "ename": "TypeError",
          "evalue": "can only concatenate str (not \"int\") to str",
          "traceback": [
            "\u001b[0;31m---------------------------------------------------------------------------\u001b[0m",
            "\u001b[0;31mTypeError\u001b[0m                                 Traceback (most recent call last)",
            "\u001b[0;32m/tmp/ipython-input-954794610.py\u001b[0m in \u001b[0;36m<cell line: 0>\u001b[0;34m()\u001b[0m\n\u001b[1;32m      1\u001b[0m \u001b[0mdata\u001b[0m \u001b[0;34m=\u001b[0m \u001b[0minput\u001b[0m\u001b[0;34m(\u001b[0m\u001b[0;34m\"This will come from STDIN: \"\u001b[0m\u001b[0;34m)\u001b[0m\u001b[0;34m\u001b[0m\u001b[0;34m\u001b[0m\u001b[0m\n\u001b[1;32m      2\u001b[0m \u001b[0mprint\u001b[0m\u001b[0;34m(\u001b[0m\u001b[0;34m\"Now we write it to STDOUT: \"\u001b[0m \u001b[0;34m+\u001b[0m \u001b[0mdata\u001b[0m\u001b[0;34m)\u001b[0m\u001b[0;34m\u001b[0m\u001b[0;34m\u001b[0m\u001b[0m\n\u001b[0;32m----> 3\u001b[0;31m \u001b[0mprint\u001b[0m\u001b[0;34m(\u001b[0m\u001b[0;34m\"Now we generate an error to STDERR: \"\u001b[0m \u001b[0;34m+\u001b[0m \u001b[0mdata\u001b[0m \u001b[0;34m+\u001b[0m \u001b[0;36m1\u001b[0m\u001b[0;34m)\u001b[0m\u001b[0;34m\u001b[0m\u001b[0;34m\u001b[0m\u001b[0m\n\u001b[0m",
            "\u001b[0;31mTypeError\u001b[0m: can only concatenate str (not \"int\") to str"
          ]
        }
      ]
    },
    {
      "cell_type": "code",
      "source": [
        "import os\n",
        "print(\"HOME: \" + os.environ.get(\"HOME\", \"\"))\n",
        "print(\"SHELL: \" + os.environ.get(\"SHELL\", \"\"))\n",
        "print(\"FRUIT: \" + os.environ.get(\"FRUIT\", \"\"))"
      ],
      "metadata": {
        "colab": {
          "base_uri": "https://localhost:8080/"
        },
        "id": "fdmDXcKf0qkP",
        "outputId": "7f1e3500-1f76-4276-ba88-a253d2c46e0c"
      },
      "execution_count": 2,
      "outputs": [
        {
          "output_type": "stream",
          "name": "stdout",
          "text": [
            "HOME: /root\n",
            "SHELL: /bin/bash\n",
            "FRUIT: \n"
          ]
        }
      ]
    },
    {
      "cell_type": "code",
      "source": [
        "env"
      ],
      "metadata": {
        "colab": {
          "base_uri": "https://localhost:8080/"
        },
        "id": "b5_CkpaM2SPq",
        "outputId": "1f4dd52a-c35c-4da2-abb2-18a1b32fcd25"
      },
      "execution_count": 3,
      "outputs": [
        {
          "output_type": "execute_result",
          "data": {
            "text/plain": [
              "{'SHELL': '/bin/bash',\n",
              " 'NV_LIBCUBLAS_VERSION': '12.5.3.2-1',\n",
              " 'NVIDIA_VISIBLE_DEVICES': 'all',\n",
              " 'COLAB_JUPYTER_TRANSPORT': 'ipc',\n",
              " 'NV_NVML_DEV_VERSION': '12.5.82-1',\n",
              " 'NV_CUDNN_PACKAGE_NAME': 'libcudnn9-cuda-12',\n",
              " 'CGROUP_MEMORY_EVENTS': '/sys/fs/cgroup/memory.events /var/colab/cgroup/jupyter-children/memory.events',\n",
              " 'NV_LIBNCCL_DEV_PACKAGE': 'libnccl-dev=2.22.3-1+cuda12.5',\n",
              " 'NV_LIBNCCL_DEV_PACKAGE_VERSION': '2.22.3-1',\n",
              " 'VM_GCE_METADATA_HOST': '169.254.169.253',\n",
              " 'MODEL_PROXY_HOST': 'https://mp.kaggle.net',\n",
              " 'HOSTNAME': '67a1ebe1453a',\n",
              " 'LANGUAGE': 'en_US',\n",
              " 'TBE_RUNTIME_ADDR': '172.28.0.1:8011',\n",
              " 'COLAB_TPU_1VM': '',\n",
              " 'GCE_METADATA_TIMEOUT': '3',\n",
              " 'NVIDIA_REQUIRE_CUDA': 'cuda>=12.5 brand=unknown,driver>=470,driver<471 brand=grid,driver>=470,driver<471 brand=tesla,driver>=470,driver<471 brand=nvidia,driver>=470,driver<471 brand=quadro,driver>=470,driver<471 brand=quadrortx,driver>=470,driver<471 brand=nvidiartx,driver>=470,driver<471 brand=vapps,driver>=470,driver<471 brand=vpc,driver>=470,driver<471 brand=vcs,driver>=470,driver<471 brand=vws,driver>=470,driver<471 brand=cloudgaming,driver>=470,driver<471 brand=unknown,driver>=535,driver<536 brand=grid,driver>=535,driver<536 brand=tesla,driver>=535,driver<536 brand=nvidia,driver>=535,driver<536 brand=quadro,driver>=535,driver<536 brand=quadrortx,driver>=535,driver<536 brand=nvidiartx,driver>=535,driver<536 brand=vapps,driver>=535,driver<536 brand=vpc,driver>=535,driver<536 brand=vcs,driver>=535,driver<536 brand=vws,driver>=535,driver<536 brand=cloudgaming,driver>=535,driver<536 brand=unknown,driver>=550,driver<551 brand=grid,driver>=550,driver<551 brand=tesla,driver>=550,driver<551 brand=nvidia,driver>=550,driver<551 brand=quadro,driver>=550,driver<551 brand=quadrortx,driver>=550,driver<551 brand=nvidiartx,driver>=550,driver<551 brand=vapps,driver>=550,driver<551 brand=vpc,driver>=550,driver<551 brand=vcs,driver>=550,driver<551 brand=vws,driver>=550,driver<551 brand=cloudgaming,driver>=550,driver<551',\n",
              " 'NV_LIBCUBLAS_DEV_PACKAGE': 'libcublas-dev-12-5=12.5.3.2-1',\n",
              " 'NV_NVTX_VERSION': '12.5.82-1',\n",
              " 'COLAB_JUPYTER_IP': '172.28.0.12',\n",
              " 'NV_CUDA_CUDART_DEV_VERSION': '12.5.82-1',\n",
              " 'NV_LIBCUSPARSE_VERSION': '12.5.1.3-1',\n",
              " 'COLAB_LANGUAGE_SERVER_PROXY_ROOT_URL': 'http://172.28.0.1:8013/',\n",
              " 'NV_LIBNPP_VERSION': '12.3.0.159-1',\n",
              " 'NCCL_VERSION': '2.22.3-1',\n",
              " 'KMP_LISTEN_PORT': '6000',\n",
              " 'TF_FORCE_GPU_ALLOW_GROWTH': 'true',\n",
              " 'ENV': '/root/.bashrc',\n",
              " 'PWD': '/',\n",
              " 'TBE_EPHEM_CREDS_ADDR': '172.28.0.1:8009',\n",
              " 'COLAB_LANGUAGE_SERVER_PROXY_REQUEST_TIMEOUT': '30s',\n",
              " 'TBE_CREDS_ADDR': '172.28.0.1:8008',\n",
              " 'NV_CUDNN_PACKAGE': 'libcudnn9-cuda-12=9.2.1.18-1',\n",
              " 'NVIDIA_DRIVER_CAPABILITIES': 'compute,utility',\n",
              " 'COLAB_JUPYTER_TOKEN': '<hidden>',\n",
              " 'LAST_FORCED_REBUILD': '20250623',\n",
              " 'NV_NVPROF_DEV_PACKAGE': 'cuda-nvprof-12-5=12.5.82-1',\n",
              " 'NV_LIBNPP_PACKAGE': 'libnpp-12-5=12.3.0.159-1',\n",
              " 'NV_LIBNCCL_DEV_PACKAGE_NAME': 'libnccl-dev',\n",
              " 'TCLLIBPATH': '/usr/share/tcltk/tcllib1.20',\n",
              " 'NV_LIBCUBLAS_DEV_VERSION': '12.5.3.2-1',\n",
              " 'NVIDIA_PRODUCT_NAME': 'CUDA',\n",
              " 'COLAB_KERNEL_MANAGER_PROXY_HOST': '172.28.0.12',\n",
              " 'UV_BUILD_CONSTRAINT': '',\n",
              " 'NV_LIBCUBLAS_DEV_PACKAGE_NAME': 'libcublas-dev-12-5',\n",
              " 'NV_CUDA_CUDART_VERSION': '12.5.82-1',\n",
              " 'COLAB_WARMUP_DEFAULTS': '1',\n",
              " 'HOME': '/root',\n",
              " 'LANG': 'en_US.UTF-8',\n",
              " 'CUDA_VERSION': '12.5.1',\n",
              " 'CLOUDSDK_CONFIG': '/content/.config',\n",
              " 'NV_LIBCUBLAS_PACKAGE': 'libcublas-12-5=12.5.3.2-1',\n",
              " 'NV_CUDA_NSIGHT_COMPUTE_DEV_PACKAGE': 'cuda-nsight-compute-12-5=12.5.1-1',\n",
              " 'UV_SYSTEM_PYTHON': 'true',\n",
              " 'COLAB_RELEASE_TAG': 'release-colab_20251003-060040_RC00',\n",
              " 'KMP_TARGET_PORT': '9000',\n",
              " 'KMP_EXTRA_ARGS': '--logtostderr --listen_host=172.28.0.12 --target_host=172.28.0.12 --tunnel_background_save_url=https://colab.research.google.com/tun/m/cc48301118ce562b961b3c22d803539adc1e0c19/m-s-iqx35fd3ksud --tunnel_background_save_delay=10s --tunnel_periodic_background_save_frequency=30m0s --enable_output_coalescing=true --output_coalescing_required=true ',\n",
              " 'UV_INSTALL_DIR': '/usr/local/bin',\n",
              " 'NV_LIBNPP_DEV_PACKAGE': 'libnpp-dev-12-5=12.3.0.159-1',\n",
              " 'COLAB_LANGUAGE_SERVER_PROXY_LSP_DIRS': '/datalab/web/pyright/typeshed-fallback/stdlib,/usr/local/lib/python3.10/dist-packages',\n",
              " 'NV_LIBCUBLAS_PACKAGE_NAME': 'libcublas-12-5',\n",
              " 'COLAB_KERNEL_MANAGER_PROXY_PORT': '6000',\n",
              " 'CLOUDSDK_PYTHON': 'python3',\n",
              " 'NV_LIBNPP_DEV_VERSION': '12.3.0.159-1',\n",
              " 'NO_GCE_CHECK': 'False',\n",
              " 'PYTHONPATH': '/env/python',\n",
              " 'NV_LIBCUSPARSE_DEV_VERSION': '12.5.1.3-1',\n",
              " 'LIBRARY_PATH': '/usr/local/cuda/lib64/stubs',\n",
              " 'NV_CUDNN_VERSION': '9.2.1.18-1',\n",
              " 'SHLVL': '0',\n",
              " 'NV_CUDA_LIB_VERSION': '12.5.1-1',\n",
              " 'COLAB_LANGUAGE_SERVER_PROXY': '/usr/colab/bin/language_service',\n",
              " 'NVARCH': 'x86_64',\n",
              " 'UV_CONSTRAINT': '',\n",
              " 'PYTHONUTF8': '1',\n",
              " 'NV_CUDNN_PACKAGE_DEV': 'libcudnn9-dev-cuda-12=9.2.1.18-1',\n",
              " 'NV_LIBNCCL_PACKAGE': 'libnccl2=2.22.3-1+cuda12.5',\n",
              " 'LD_LIBRARY_PATH': '/usr/local/nvidia/lib:/usr/local/nvidia/lib64',\n",
              " 'COLAB_GPU': '',\n",
              " 'NV_CUDA_NSIGHT_COMPUTE_VERSION': '12.5.1-1',\n",
              " 'GCS_READ_CACHE_BLOCK_SIZE_MB': '16',\n",
              " 'NV_NVPROF_VERSION': '12.5.82-1',\n",
              " 'LC_ALL': 'en_US.UTF-8',\n",
              " 'COLAB_FILE_HANDLER_ADDR': 'localhost:3453',\n",
              " 'PATH': '/opt/bin:/usr/local/nvidia/bin:/usr/local/cuda/bin:/usr/local/sbin:/usr/local/bin:/usr/sbin:/usr/bin:/sbin:/bin:/tools/node/bin:/tools/google-cloud-sdk/bin',\n",
              " 'NV_LIBNCCL_PACKAGE_NAME': 'libnccl2',\n",
              " 'COLAB_DEBUG_ADAPTER_MUX_PATH': '/usr/local/bin/dap_multiplexer',\n",
              " 'NV_LIBNCCL_PACKAGE_VERSION': '2.22.3-1',\n",
              " 'PYTHONWARNINGS': 'ignore:::pip._internal.cli.base_command',\n",
              " 'DEBIAN_FRONTEND': 'noninteractive',\n",
              " 'COLAB_BACKEND_VERSION': 'next',\n",
              " 'OLDPWD': '/',\n",
              " '_PYVIZ_COMMS_INSTALLED': '1',\n",
              " 'PYDEVD_USE_FRAME_EVAL': 'NO',\n",
              " 'JPY_SESSION_NAME': '1wkSuJmNU4kHTID00pLbYrcYGIDl_mbci',\n",
              " 'JPY_PARENT_PID': '85',\n",
              " 'TERM': 'xterm-color',\n",
              " 'CLICOLOR': '1',\n",
              " 'PAGER': 'cat',\n",
              " 'GIT_PAGER': 'cat',\n",
              " 'MPLBACKEND': 'module://matplotlib_inline.backend_inline',\n",
              " 'ENABLE_DIRECTORYPREFETCHER': '1',\n",
              " 'USE_AUTH_EPHEM': '1',\n",
              " 'COLAB_NOTEBOOK_ID': '1wkSuJmNU4kHTID00pLbYrcYGIDl_mbci'}"
            ]
          },
          "metadata": {},
          "execution_count": 3
        }
      ]
    },
    {
      "cell_type": "code",
      "source": [
        "print(Path)"
      ],
      "metadata": {
        "colab": {
          "base_uri": "https://localhost:8080/",
          "height": 141
        },
        "id": "FQgt28Xx2oFe",
        "outputId": "2868f61d-ae31-4f03-fdce-25515570d90f"
      },
      "execution_count": 15,
      "outputs": [
        {
          "output_type": "error",
          "ename": "NameError",
          "evalue": "name 'Path' is not defined",
          "traceback": [
            "\u001b[0;31m---------------------------------------------------------------------------\u001b[0m",
            "\u001b[0;31mNameError\u001b[0m                                 Traceback (most recent call last)",
            "\u001b[0;32m/tmp/ipython-input-2783302960.py\u001b[0m in \u001b[0;36m<cell line: 0>\u001b[0;34m()\u001b[0m\n\u001b[0;32m----> 1\u001b[0;31m \u001b[0mprint\u001b[0m\u001b[0;34m(\u001b[0m\u001b[0mPath\u001b[0m\u001b[0;34m)\u001b[0m\u001b[0;34m\u001b[0m\u001b[0;34m\u001b[0m\u001b[0m\n\u001b[0m",
            "\u001b[0;31mNameError\u001b[0m: name 'Path' is not defined"
          ]
        }
      ]
    }
  ],
  "metadata": {
    "colab": {
      "provenance": [],
      "authorship_tag": "ABX9TyMrEHf2zzfBw+Z10/36ceiL",
      "include_colab_link": true
    },
    "kernelspec": {
      "display_name": "Python 3",
      "name": "python3"
    },
    "language_info": {
      "name": "python"
    }
  },
  "nbformat": 4,
  "nbformat_minor": 0
}